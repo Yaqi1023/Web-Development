{
 "cells": [
  {
   "cell_type": "markdown",
   "metadata": {},
   "source": [
    "# Week 1 - Development Environments & Review of OOP\n",
    "\n",
    "## Part 1. Virtual Environments\n",
    "\n",
    "In IS271, we discussed how to download and install 3rd party Python packages using **`pip`** (or `pip3`).\n",
    "\n",
    "- But what happens if you have one project that uses an older version of a package and then you start a new project using a new version of the same package?\n",
    "    - For example, you built a web app with Django 1.4 a few years ago, and now you want to buid another using Django 1.9.\n",
    "- If the new version of the package is not backwards compatible, your old project might crash!\n",
    "- So how do we ensure all our projects work even with different versions of the same package?\n",
    "    - We use something called ***Virtual Environments***!\n",
    "- Virtual Environments create a directory in your project where your 3rd party packages will be stored.\n",
    "- Since each project has its own package directory, there is no more concern about version conflicts and overwriting.\n",
    "\n",
    "Here is how you create a virtual environment in Python3\n",
    "\n",
    "1. First you create the project directory and make it your working directory.\n",
    "\n",
    "        mkdir myproject\n",
    "        cd myproject\n",
    "\n",
    "2. Next you create the virtual environment directory. The standard practice is to name it **`ENV`**.\n",
    "\n",
    "        pyvenv ENV\n",
    "        \n",
    "3. Whenever you work on that project you need to *activate* the virtual environment.\n",
    "\n",
    "        source ENV/bin/activate\n",
    "        \n",
    "4. Notice that `(ENV)` is now a part of the shell prompt, signifying that it has been activated.\n",
    "\n",
    "5. You can now install the packages for your project.\n",
    "\n",
    "        (ENV) pip install pymarc\n",
    "        \n",
    "6. *Side note*: If you have several packages to install you can use a requirements file instead.\n",
    "    - Open a file named **`requirements.txt`**\n",
    "    - Put each package name on a new line.\n",
    "    - You can specify versions of packages as well. For example, Django v1.6 or higher, but not up to v1.9: `Django>=1.6,<1.9`\n",
    "    - Then use `pip` to install all of them at once using the **`-r`** flag.\n",
    "    \n",
    "            pip install -r requirements.txt\n",
    "            \n",
    "    - This is very useful when trying to run a project with several dependencies on a new machine.\n",
    "    \n",
    "7. Now try running Python and importing the packages you installed.\n",
    "\n",
    "8. To get out of the virtual environment, use **`deactivate`**.\n",
    "\n",
    "        (ENV) deactivate"
   ]
  },
  {
   "cell_type": "markdown",
   "metadata": {},
   "source": [
    "## Part 2 - Unit Testing\n",
    "\n",
    "Unit testing is great for ensuring that your functions work as expected.\n",
    "\n",
    "Here is how to make a test suite.\n",
    "\n",
    "First, let's create a function to test. Let's create a function to find the maximum value in a list of numbers."
   ]
  },
  {
   "cell_type": "code",
   "execution_count": 1,
   "metadata": {
    "collapsed": true
   },
   "outputs": [],
   "source": [
    "def highest(numbers):\n",
    "    high = 0\n",
    "    for number in numbers:\n",
    "        if number > high:\n",
    "            high = number\n",
    "    return high"
   ]
  },
  {
   "cell_type": "markdown",
   "metadata": {},
   "source": [
    "OK, now let's try testing it with a test suite.\n",
    "\n",
    "First we import the **`unittest`** package and create a **`TestCase`** subclass.\n",
    "\n",
    "Then we create a test for each function in our program (in this example we only have one).\n",
    "\n",
    "Use the **`assertEqual`** method to compare expected results with actual results."
   ]
  },
  {
   "cell_type": "code",
   "execution_count": 2,
   "metadata": {
    "collapsed": true
   },
   "outputs": [],
   "source": [
    "import unittest\n",
    "\n",
    "class HighestTestCase(unittest.TestCase):\n",
    "    \n",
    "    def test_highest(self):\n",
    "        numbers = [1,2,3,4,5]\n",
    "        result = highest(numbers)\n",
    "        self.assertEqual(result, 5)"
   ]
  },
  {
   "cell_type": "markdown",
   "metadata": {},
   "source": [
    "**Note!** \n",
    "\n",
    "1. Normally, you would have to import the file that contains the code you want to test.\n",
    "\n",
    "2. And you would end the file with the following lines of code.\n",
    "\n",
    "```python\n",
    "if __name__ == \"__main__\":\n",
    "    unittest.main()\n",
    "```\n",
    "\n",
    "Then you would be able to run the test suite from the command line like so (assuming the test suite was in a file name `highest_test.py`.\n",
    "\n",
    "        python highest_test.py\n",
    "        \n",
    "However, since this iPython notebook is not the command line, I have to run the tests in a slightly different way..."
   ]
  },
  {
   "cell_type": "code",
   "execution_count": 3,
   "metadata": {
    "collapsed": false
   },
   "outputs": [
    {
     "name": "stderr",
     "output_type": "stream",
     "text": [
      ".\n",
      "----------------------------------------------------------------------\n",
      "Ran 1 test in 0.001s\n",
      "\n",
      "OK\n"
     ]
    },
    {
     "data": {
      "text/plain": [
       "<unittest.runner.TextTestResult run=1 errors=0 failures=0>"
      ]
     },
     "execution_count": 3,
     "metadata": {},
     "output_type": "execute_result"
    }
   ],
   "source": [
    "suite = unittest.TestLoader().loadTestsFromTestCase(HighestTestCase)\n",
    "unittest.TextTestRunner().run(suite)"
   ]
  },
  {
   "cell_type": "markdown",
   "metadata": {},
   "source": [
    "OK, great, our test passed. But good testing doesn't stop with a usual set of values.\n",
    "\n",
    "You should test using ***boundary values***. Test your code at the edges.\n",
    "\n",
    "In this case we should mix up the values."
   ]
  },
  {
   "cell_type": "code",
   "execution_count": 4,
   "metadata": {
    "collapsed": false
   },
   "outputs": [
    {
     "name": "stderr",
     "output_type": "stream",
     "text": [
      ".F..\n",
      "======================================================================\n",
      "FAIL: test_negative_highest (__main__.HighestTestCase)\n",
      "----------------------------------------------------------------------\n",
      "Traceback (most recent call last):\n",
      "  File \"<ipython-input-4-77b81183e952>\", line 23, in test_negative_highest\n",
      "    self.assertEqual(result, -1)\n",
      "AssertionError: 0 != -1\n",
      "\n",
      "----------------------------------------------------------------------\n",
      "Ran 4 tests in 0.004s\n",
      "\n",
      "FAILED (failures=1)\n"
     ]
    },
    {
     "data": {
      "text/plain": [
       "<unittest.runner.TextTestResult run=4 errors=0 failures=1>"
      ]
     },
     "execution_count": 4,
     "metadata": {},
     "output_type": "execute_result"
    }
   ],
   "source": [
    "import unittest\n",
    "\n",
    "class HighestTestCase(unittest.TestCase):\n",
    "    \n",
    "    def test_highest(self):\n",
    "        numbers = [1,2,3,4,5]\n",
    "        result = highest(numbers)\n",
    "        self.assertEqual(result, 5)\n",
    "        \n",
    "    def test_reverse_highest(self):\n",
    "        numbers = [5,4,3,2,1]\n",
    "        result = highest(numbers)\n",
    "        self.assertEqual(result, 5)\n",
    "        \n",
    "    def test_zeros_highest(self):\n",
    "        numbers = [0,0,0,0,0]\n",
    "        result = highest(numbers)\n",
    "        self.assertEqual(result, 0)\n",
    "        \n",
    "    def test_negative_highest(self):\n",
    "        numbers = [-5,-2,-6,-21,-1]\n",
    "        result = highest(numbers)\n",
    "        self.assertEqual(result, -1)\n",
    "\n",
    "suite = unittest.TestLoader().loadTestsFromTestCase(HighestTestCase)\n",
    "unittest.TextTestRunner().run(suite)"
   ]
  },
  {
   "cell_type": "markdown",
   "metadata": {},
   "source": [
    "***Aha!*** We found a bug! Our code doesn't handle negative values! Let's fix it."
   ]
  },
  {
   "cell_type": "code",
   "execution_count": 5,
   "metadata": {
    "collapsed": true
   },
   "outputs": [],
   "source": [
    "def highest(numbers):\n",
    "    # high = 0\n",
    "    high = numbers[0]\n",
    "    for number in numbers[1:]:\n",
    "        if number > high:\n",
    "            high = number\n",
    "    return high"
   ]
  },
  {
   "cell_type": "markdown",
   "metadata": {},
   "source": [
    "Now let's test it again"
   ]
  },
  {
   "cell_type": "code",
   "execution_count": 6,
   "metadata": {
    "collapsed": false
   },
   "outputs": [
    {
     "name": "stderr",
     "output_type": "stream",
     "text": [
      "....\n",
      "----------------------------------------------------------------------\n",
      "Ran 4 tests in 0.004s\n",
      "\n",
      "OK\n"
     ]
    },
    {
     "data": {
      "text/plain": [
       "<unittest.runner.TextTestResult run=4 errors=0 failures=0>"
      ]
     },
     "execution_count": 6,
     "metadata": {},
     "output_type": "execute_result"
    }
   ],
   "source": [
    "suite = unittest.TestLoader().loadTestsFromTestCase(HighestTestCase)\n",
    "unittest.TextTestRunner().run(suite)"
   ]
  },
  {
   "cell_type": "markdown",
   "metadata": {},
   "source": [
    "## Part 3. Version Control\n",
    "\n",
    "As you work on your code you may find yourself creating \"versions\" of it. Does this list of files look familiar to you?\n",
    "\n",
    "```\n",
    "myprog.py\n",
    "myprog_old.py\n",
    "myprog-2.py\n",
    "myprog-3.py\n",
    "```\n",
    "\n",
    "This is what happens when you make changes but aren't sure if you'll need to go back to that previous version.\n",
    "\n",
    "It's also an unstable method for versioning your code. Instead you should use code a versioning tool, like **`git`**: https://git-scm.com.\n",
    "\n",
    "1. You start your code repository by using the **init** command. This creates the git log of your changes.\n",
    "\n",
    "    ```bash\n",
    "    $ mkdir myproject\n",
    "    $ cd myproject/\n",
    "    $ git init\n",
    "    Initialized empty Git repository in /Users/jgomez/myproject/.git/\n",
    "    ```\n",
    "\n",
    "2. Create come code and check the **status** of your repository\n",
    "\n",
    "    ```bash\n",
    "    $ vim app.py\n",
    "    $ git status\n",
    "    On branch master\n",
    "    \n",
    "    Initial commit\n",
    "    \n",
    "    Untracked files:\n",
    "      (use \"git add <file>...\" to include in what will be committed)\n",
    "    \n",
    "\t    app.py\n",
    "    \n",
    "    nothing added to commit but untracked files present (use \"git add\" to track)\n",
    "    ``` \n",
    "\n",
    "3. Let git know you want to track this new file by using **add**, then check the status again.\n",
    "\n",
    "    ```bash\n",
    "    $ git add app.py\n",
    "    $ git status\n",
    "    On branch master\n",
    "    \n",
    "    Initial commit\n",
    "    \n",
    "    Changes to be committed:\n",
    "      (use \"git rm --cached <file>...\" to unstage)\n",
    "    \n",
    "        new file:   app.py\n",
    "    ```\n",
    "\n",
    "4. You can do dthis multiple times. When you have made all of the changes you need. You **commit** them. Always include a message with `-m` option.\n",
    "\n",
    "    ```bash\n",
    "    $ git commit -m 'created initial app file'\n",
    "    [master (root-commit) ac9c31e] created initial app file\n",
    "     1 file changed, 1 insertion(+)\n",
    "     create mode 100644 app.py\n",
    "    ```\n",
    "\n",
    "5. However, you should not use your master branch for working on new code. You should create a new **branch**. To start working in it you need to **checkout** that branch.\n",
    "\n",
    "    ```bash\n",
    "    $ git branch new-feature/something\n",
    "    $ git checkout new-feature/something \n",
    "    Switched to branch 'new-feature/something'\n",
    "    ```\n",
    "    \n",
    "6. Now makes some changes, add, commit, and then **merge** the branch into master. ***Note!*** When you merge you want to checkout master so you can then merge your working branch *into* master.\n",
    "\n",
    "    ```bash\n",
    "    $ vim app.py \n",
    "    $ git status\n",
    "    On branch new-feature/something\n",
    "    Changes not staged for commit:\n",
    "      (use \"git add <file>...\" to update what will be committed)\n",
    "      (use \"git checkout -- <file>...\" to discard changes in working directory)\n",
    "    \n",
    "        modified:   app.py\n",
    "    \n",
    "    no changes added to commit (use \"git add\" and/or \"git commit -a\")\n",
    "    $ git add app.py\n",
    "    $ git commit -m 'added another print statement'\n",
    "    [new-feature/something 2fc0996] added another print statement\n",
    "     1 file changed, 2 insertions(+)\n",
    "    $ git checkout master\n",
    "    Switched to branch 'master'\n",
    "    $ git merge new-feature/something \n",
    "    Updating ac9c31e..2fc0996\n",
    "    Fast-forward\n",
    "     app.py | 2 ++\n",
    "     1 file changed, 2 insertions(+)\n",
    "    ```\n",
    "\n",
    "7. You can have multiple working branches in your repository at any time, but you can only work on one at a time.\n",
    "8. You can ***push*** your code to a remote repository, such as Github: http://github.com.\n",
    "    - Note that git and Github are not the same thing.\n",
    "        - git is an open source tool\n",
    "        - Github is a for-profit company that offers online repository hosting\n",
    "            - But they support open source by offering free hosting for open source projects.\n",
    "9. If you are working on a team, you can each push changes to the same remote repository.\n",
    "    - You can then ***pull*** the changes from your teammates into your local repository.\n",
    "    - You can also create a ***Pull Request*** in which you ask your teammate to review your changes and then merge the code to master.\n",
    "\n",
    "The following website gives a good visualization of what happens when you perform git commands: http://www.wei-wang.com/ExplainGitWithD3/"
   ]
  },
  {
   "cell_type": "markdown",
   "metadata": {},
   "source": [
    "## Part 3 - Object Oriented Programming Review\n",
    "\n",
    "### Classes & Objects\n",
    "- Objects are code structures that contain data elements called ***attributes*** and functions called ***methods***.\n",
    "- A Python module (a file) also has functions and data elements. The difference is that you can have multiple instance of a certain kind of object, whereas you can only have one instance of a module.\n",
    "- Objects are concrete instances of generic templates, called ***classes***.\n",
    "- To create a class, use the **`class`** keyword.\n",
    "- To create an object from that class call it using its constructor method, which is the same as the name of the class."
   ]
  },
  {
   "cell_type": "code",
   "execution_count": 7,
   "metadata": {
    "collapsed": false
   },
   "outputs": [
    {
     "data": {
      "text/plain": [
       "__main__.Person"
      ]
     },
     "execution_count": 7,
     "metadata": {},
     "output_type": "execute_result"
    }
   ],
   "source": [
    "class Person():\n",
    "    pass\n",
    "\n",
    "joshua = Person()\n",
    "\n",
    "type(joshua)"
   ]
  },
  {
   "cell_type": "markdown",
   "metadata": {},
   "source": [
    "OK, let's try again and define the constructor function too.\n",
    "\n",
    "In Python, the constructor function is named **`__init__()`**"
   ]
  },
  {
   "cell_type": "code",
   "execution_count": 8,
   "metadata": {
    "collapsed": false
   },
   "outputs": [
    {
     "data": {
      "text/plain": [
       "'Joshua Gomez'"
      ]
     },
     "execution_count": 8,
     "metadata": {},
     "output_type": "execute_result"
    }
   ],
   "source": [
    "class Person():\n",
    "    \n",
    "    def __init__(self, inputname):\n",
    "        self.fullname = inputname\n",
    "\n",
    "joshua = Person('Joshua Gomez')\n",
    "\n",
    "joshua.fullname"
   ]
  },
  {
   "cell_type": "markdown",
   "metadata": {},
   "source": [
    "OK, so let's look closer at what just happened...\n",
    "\n",
    "First off, what is **`self`**?\n",
    "- `self` refers to the object itself.\n",
    "- In other languages like *Java* you use the keyword **`this`** instead.\n",
    "- `self` must be defined as the first argument for every method\n",
    "    - However, you do not have to pass it as an argument. It is ***implied***.\n",
    "\n",
    "So what happens when we say `joshua = Person('Joshua Gomez')`?\n",
    "1. Python looks up the definition of the Person class\n",
    "2. It ***instantiates*** a new object in memory\n",
    "3. It then calls the new object’s __init__ method, passing this newly-created object as self and the other argument ('Joshua Gomez') as name\n",
    "4. It stores the value of name in the object attribute `name`\n",
    "5. It returns the new object\n",
    "6. It attaches the name `joshua` to the object\n",
    "        \n",
    "In the `__init__` method we assign the local method variable `name` to an attribute of the object, also called `name`.\n",
    "- We could have used different variable names\n",
    "    \n",
    "Let's try doing that. And let's create a method too."
   ]
  },
  {
   "cell_type": "code",
   "execution_count": 9,
   "metadata": {
    "collapsed": false
   },
   "outputs": [
    {
     "name": "stdout",
     "output_type": "stream",
     "text": [
      "I just created a person. His name is Joshua\n"
     ]
    }
   ],
   "source": [
    "class Person():\n",
    "    \n",
    "    def __init__(self, fname, lname):\n",
    "        self.first_name = fname\n",
    "        self.last_name = lname\n",
    "        \n",
    "    def fullname(self):\n",
    "        return '{}, {}'.format(self.last_name, self.first_name)\n",
    "    \n",
    "joshua = Person('Joshua', 'Gomez')\n",
    "\n",
    "print('I just created a person. His name is {}'.format(joshua.first_name))\n",
    "\n"
   ]
  },
  {
   "cell_type": "code",
   "execution_count": 10,
   "metadata": {
    "collapsed": false
   },
   "outputs": [
    {
     "data": {
      "text/plain": [
       "'Gomez, Joshua'"
      ]
     },
     "execution_count": 10,
     "metadata": {},
     "output_type": "execute_result"
    }
   ],
   "source": [
    "joshua.fullname()"
   ]
  },
  {
   "cell_type": "markdown",
   "metadata": {},
   "source": [
    "*Note:* If your object's don't need any initialization, you don't have to define an `__init__()` method.\n",
    "\n",
    "### Inheritance\n",
    "A great feature of OOP is the ability to extend classes through inheritance. \n",
    "- What if we wanted to have different *types* of Persons?\n",
    "- We still want a basic set of attributes and methodds, but to also add special ones for different types.\n",
    "- So we have a *base class*, also called a *parent class* or *superclass*\n",
    "- Then we create extensions of it with minor changes called *child classes* or *subclasses\n",
    "\n",
    "Let's extend our Person category in a university setting"
   ]
  },
  {
   "cell_type": "code",
   "execution_count": 11,
   "metadata": {
    "collapsed": false
   },
   "outputs": [
    {
     "name": "stdout",
     "output_type": "stream",
     "text": [
      "Name: Joshua Gomez\n",
      "UID: 1978-03-31\n",
      "DOB: 12345\n",
      "RANK: Lecturer\n",
      "DEPT: GSEIS\n",
      "SALARY: 1 \n",
      "\n",
      "Name: Joshua Gomez\n",
      "UID: 1978-03-31\n",
      "DOB: 12345\n",
      "RANK: Lecturer\n",
      "DEPT: GSEIS\n",
      "SALARY: 1001 \n",
      "\n",
      "Name: Xxxx Xxxx\n",
      "UID: 1993-01-30\n",
      "DOB: 34567\n"
     ]
    }
   ],
   "source": [
    "class Person():\n",
    "    \n",
    "    def __init__(self, fname, lname, dob, uid):\n",
    "        self.fname = fname\n",
    "        self.lname = lname\n",
    "        self.dob = dob\n",
    "        self.uid = uid\n",
    "    \n",
    "    def report(self):\n",
    "        return 'Name: {} {}\\nUID: {}\\nDOB: {}'.format(self.fname, self.lname, self.dob, self.uid)\n",
    "    \n",
    "class Instructor(Person):\n",
    "    \n",
    "    def __init__(self, fname, lname, dob, uid, rank, dept, salary):\n",
    "        super().__init__(fname, lname, dob, uid)\n",
    "        self.rank = rank\n",
    "        self.dept = dept\n",
    "        self.salary = salary\n",
    "    \n",
    "    def report(self):\n",
    "        output = super().report()\n",
    "        return output + '\\nRANK: {}\\nDEPT: {}\\nSALARY: {}'.format(self.rank, self.dept, self.salary)\n",
    "    \n",
    "    def give_raise(self, rate_increase):\n",
    "        self.salary += rate_increase\n",
    "        \n",
    "class Student(Person):\n",
    "    \n",
    "    def __init__(self, fname, lname, dob, uid, major, year):\n",
    "        super().__init__(fname, lname, dob, uid)\n",
    "        self.major = major\n",
    "        self.year = year\n",
    "\n",
    "from datetime import date\n",
    "\n",
    "joshua = Instructor('Joshua', 'Gomez', date(1978,3,31), '12345', 'Lecturer', 'GSEIS', 1)\n",
    "print(joshua.report(), '\\n')\n",
    "joshua.give_raise(1000)\n",
    "print(joshua.report(), '\\n')\n",
    "\n",
    "\n",
    "studentx = Student('Xxxx', 'Xxxx', date(1993,1,30), '34567', 'English', 'Senior')\n",
    "print(studentx.report())"
   ]
  },
  {
   "cell_type": "code",
   "execution_count": 12,
   "metadata": {
    "collapsed": false
   },
   "outputs": [
    {
     "data": {
      "text/plain": [
       "[<__main__.Student at 0x10652bb70>,\n",
       " <__main__.Student at 0x10652bbe0>,\n",
       " <__main__.Student at 0x10652bc18>,\n",
       " <__main__.Student at 0x10652bc50>]"
      ]
     },
     "execution_count": 12,
     "metadata": {},
     "output_type": "execute_result"
    }
   ],
   "source": [
    "students = []\n",
    "for num in range(4):\n",
    "    students.append(Student('student%s' % num, 'last name', date(2010, 3, 3),'1234', 'English', 'Senior'))\n",
    "\n",
    "students"
   ]
  },
  {
   "cell_type": "markdown",
   "metadata": {},
   "source": [
    "The code above illustrates several things:\n",
    "\n",
    "***Inheritance***\n",
    "\n",
    "- When defining a ***child class*** you pass in the ***parent class*** as an argument.\n",
    "- The child class inherits all the attributes and methods defined in the parent class.\n",
    "    - Our child classes inherited the `report()` method.\n",
    "- `studentx` is a `Student`, but she is also a `Person`\n",
    "- We can create methods unique to the child classes\n",
    "    - Our example creates a `give_raise` method to the `Instructor` class \n",
    "\n",
    "***method overriding***\n",
    "\n",
    "- If you want to alter the behavior of a parent class' method, you can redefine it. This is called method *overriding*.\n",
    "- In our example we overrode the initialization method.\n",
    "\n",
    "***super!***\n",
    "\n",
    "- If you want to call on a method of the parent class you can use the **`super()`** function to grab it.\n",
    "- In our example we don't want to rewrite all the behavior of the initialization method.\n",
    "    - So we call it to perform the set up of the common variables\n",
    "    - Then we finish the overridden method with the set up of variables unique to the chld class\n",
    "  \n",
    "---\n",
    "***Important Note ABout Properties***\n",
    "- Properties can be set and retrieved directly.\n",
    "- This is not the case in many other languages\n",
    "    - *C++* and *Java* allow you to set private attributes that cannot be accessed by other code.\n",
    "    - You have to use special methods that set or return the value of these private attributes\n",
    "- As with other things, Python loosens the rules, and expects the programmer to do the right thing\n",
    "---\n",
    "### Instance vs Class properties\n",
    "- So far, we have been using ***instance properties***.\n",
    "    - These affect the instance object\n",
    "- We can also create ***class properties*** that affect the class as a whole\n",
    "    - This can be useful for keeping track of the aggregate behavior of several objects"
   ]
  },
  {
   "cell_type": "code",
   "execution_count": 13,
   "metadata": {
    "collapsed": false
   },
   "outputs": [
    {
     "data": {
      "text/plain": [
       "1"
      ]
     },
     "execution_count": 13,
     "metadata": {},
     "output_type": "execute_result"
    }
   ],
   "source": [
    "class Author():\n",
    "    \n",
    "    def __init__(self, lname, fname):\n",
    "        self.lname = lname\n",
    "        self.fname = fname\n",
    "\n",
    "class Book():\n",
    "    \n",
    "    count = 0\n",
    "    \n",
    "    def __init__(self, title, author):\n",
    "        Book.count += 1\n",
    "        self.title = title\n",
    "        self.author = author\n",
    "    \n",
    "    @classmethod\n",
    "    def howmany(cls):\n",
    "        return cls.count\n",
    "    \n",
    "auth1 = Author('Vonnegut', 'Kurt')\n",
    "\n",
    "book1 = Book('Slaughterhouse Five', auth1)\n",
    "\n",
    "\n",
    "Book.count"
   ]
  },
  {
   "cell_type": "code",
   "execution_count": 14,
   "metadata": {
    "collapsed": false
   },
   "outputs": [
    {
     "data": {
      "text/plain": [
       "1"
      ]
     },
     "execution_count": 14,
     "metadata": {},
     "output_type": "execute_result"
    }
   ],
   "source": [
    "book1.howmany()"
   ]
  },
  {
   "cell_type": "code",
   "execution_count": 15,
   "metadata": {
    "collapsed": true
   },
   "outputs": [],
   "source": [
    "book2 = Book(\"Cat's Cradle\", auth1)\n",
    "book3 = Book('Bluebeard', auth1)"
   ]
  },
  {
   "cell_type": "code",
   "execution_count": 16,
   "metadata": {
    "collapsed": false
   },
   "outputs": [
    {
     "data": {
      "text/plain": [
       "3"
      ]
     },
     "execution_count": 16,
     "metadata": {},
     "output_type": "execute_result"
    }
   ],
   "source": [
    "book1.howmany()"
   ]
  },
  {
   "cell_type": "markdown",
   "metadata": {},
   "source": [
    "OK, the previous example illustrates a few things:\n",
    "\n",
    "***Composition***\n",
    "- Inheritance creates ***is-a*** relationships\n",
    "    - A `Student` is a `Person`\n",
    "- Composition creates ***has-a*** relationships\n",
    "    - A `Book` has an `Author`\n",
    "\n",
    "***Class Attributes***\n",
    "- Attributes defined without `self` belong to the class as a whole\n",
    "    - When a new `Book` is initialized it increments the class `count` attribute\n",
    "- We can also define class methods\n",
    "    - Use the `@classmethod` decorator\n",
    "    - Use `cls` instead of `self`\n",
    "---\n",
    "In addition to instance methods and class method, we can also create ***static methods***, which do not affect the class attributes or the instance attributes.\n",
    "- These exist purely for convenience.\n",
    "- Use the `@staticmethod` decorator to create them\n",
    "- No need for explicit `self` or `cls` parameter\n",
    "- Static methods and Class methods are fairly similar"
   ]
  },
  {
   "cell_type": "code",
   "execution_count": 17,
   "metadata": {
    "collapsed": false
   },
   "outputs": [
    {
     "name": "stdout",
     "output_type": "stream",
     "text": [
      "user0\n",
      "user1\n",
      "user2\n",
      "user3\n",
      "user4\n",
      "user5\n",
      "user6\n",
      "user7\n",
      "user8\n",
      "user9\n",
      "user10\n",
      "user11\n",
      "user12\n",
      "user13\n",
      "user14\n",
      "user15\n",
      "user16\n",
      "user17\n",
      "user18\n",
      "user19\n",
      "Nobody likes us\n",
      "\n",
      "Adding a bunch more users!\n",
      "We are awesome!\n"
     ]
    }
   ],
   "source": [
    "class User():\n",
    "    \n",
    "    count = 0\n",
    "    \n",
    "    def __init__(self, handle):\n",
    "        self.handle = handle\n",
    "        User.count += 1\n",
    "        \n",
    "    def __del__(self):\n",
    "        User.count -= 1\n",
    "        \n",
    "    @staticmethod\n",
    "    def how_awesome():\n",
    "        if User.count < 100:\n",
    "            return 'Nobody likes us'\n",
    "        if User.count < 1000:\n",
    "            return 'We need a makeover'\n",
    "        if User.count > 10000:\n",
    "            return 'We are awesome!'\n",
    "        else:\n",
    "            return \"We're doing OK\"\n",
    "        \n",
    "users = []\n",
    "for num in range(20):\n",
    "    new_user = User('user%s' % num)\n",
    "    print(new_user.handle)\n",
    "    users.append(new_user)\n",
    "\n",
    "user0 = users[0]\n",
    "print(user0.how_awesome())\n",
    "\n",
    "# Let's try again\n",
    "# Delete the original set and start over\n",
    "del users\n",
    "\n",
    "print('\\nAdding a bunch more users!')\n",
    "users = [User('user%s' % num) for num in range(20000)]\n",
    "print(User.how_awesome())\n",
    "\n",
    "del users"
   ]
  },
  {
   "cell_type": "markdown",
   "metadata": {},
   "source": [
    "Notice that I created a `__del__` method. This is anothe special method like `__init__`. It is a ***destructor***\n",
    "\n",
    "We'll look at other special methods at the end of the lecture...\n",
    "\n",
    "---\n",
    "Polymorphism\n",
    "------------\n",
    "OK, now let's consider what happens when we have several children of the same class."
   ]
  },
  {
   "cell_type": "code",
   "execution_count": 18,
   "metadata": {
    "collapsed": false
   },
   "outputs": [
    {
     "name": "stdout",
     "output_type": "stream",
     "text": [
      "Listing 3 shapes\n",
      "------------------\n",
      "type: <class '__main__.Square'>\n",
      "height: 5\n",
      "width: 5\n",
      "area: 25\n",
      "\n",
      "type: <class '__main__.Circle'>\n",
      "radius: 2.5\n",
      "area: 19.634954084936208\n",
      "\n",
      "type: <class '__main__.Triangle'>\n",
      "height: 5\n",
      "width: 5\n",
      "area: 12.5\n",
      "\n",
      "\n"
     ]
    }
   ],
   "source": [
    "class Shape():\n",
    "    \n",
    "    def __init__(self, height, width):\n",
    "        self.height = height\n",
    "        self.width = width\n",
    "    \n",
    "    \n",
    "    def area(self):\n",
    "        return self.height * self.width\n",
    "\n",
    "class Rectangle(Shape):\n",
    "    pass\n",
    "\n",
    "class Square(Rectangle):\n",
    "    \n",
    "    def __init__(self, side):\n",
    "        self.height = side\n",
    "        self.width = side\n",
    "    \n",
    "class Circle(Shape):\n",
    "    \n",
    "    def __init__(self, radius):\n",
    "        self.radius = radius\n",
    "        \n",
    "    def area(self):\n",
    "        from math import pi\n",
    "        return pi * self.radius**2\n",
    "    \n",
    "class Triangle(Shape):\n",
    "    \n",
    "    #def __init__(self, height, width):\n",
    "    #    super().__init__(height, width)\n",
    "    \n",
    "    def area(self):\n",
    "        return super().area() * 0.5\n",
    "    \n",
    "\n",
    "#OK, now let's create a list of different shapes\n",
    "shapes = [Square(5),  Circle(2.5), Triangle(5, 5)]\n",
    "\n",
    "\n",
    "# define a function that takes a list of shapes and prints a report\n",
    "def list_shapes(shapes):\n",
    "    output = 'Listing {} shapes\\n------------------\\n'.format(len(shapes))\n",
    "    for shape in shapes:\n",
    "        output += 'type: {}\\n'.format(type(shape))\n",
    "        for key, value in vars(shape).items():\n",
    "            output += '{}: {}\\n'.format(key, value)\n",
    "        output += 'area: {}\\n\\n'.format(shape.area())\n",
    "    return output\n",
    "\n",
    "\n",
    "print(list_shapes(shapes))"
   ]
  },
  {
   "cell_type": "markdown",
   "metadata": {},
   "source": [
    "- In this example we have multiple shape types that all inherit from the parent class of `Shape`.\n",
    "    - `Square` is actually a *grandchild* of `Shape`:  `Shape` -> `Rectangle` -> `Square`\n",
    "- They all inherit or override the `area()` method\n",
    "- Thus, a function like `list_shapes()` can treat them all as if they were `Shape` objects.\n",
    "    - In fact they are `Shape` objects. A `Circle` ***is-a*** `Shape`\n",
    "- This treatment of multiple classes as the same is called ***polymorphism***\n",
    "    - As long as they all support the same attributes and methods, the code working with it does not need to know that they are actually different subclasses.\n",
    "    - This is also called \"Duck Typing\"\n",
    "        - If it looks like a Duck and quacks like a Duck it is a Duck.\n",
    "- In a dynamically typed language like *Python*, this behavior seems almost normal. But in a statically typed language like *Java*, polymorphism is a very nice feature that enables writing functions that take objects of different types, which you normally cannot do.\n",
    "---\n",
    "OK, let's take another look at ***attributes***\n",
    "- In the example above I used `vars` to get a dictionary of the objects' attributes."
   ]
  },
  {
   "cell_type": "code",
   "execution_count": 19,
   "metadata": {
    "collapsed": false
   },
   "outputs": [
    {
     "data": {
      "text/plain": [
       "{'height': 5, 'width': 5}"
      ]
     },
     "execution_count": 19,
     "metadata": {},
     "output_type": "execute_result"
    }
   ],
   "source": [
    "sq = Square(5)\n",
    "\n",
    "vars(sq)"
   ]
  },
  {
   "cell_type": "code",
   "execution_count": 20,
   "metadata": {
    "collapsed": false
   },
   "outputs": [
    {
     "data": {
      "text/plain": [
       "['__class__',\n",
       " '__delattr__',\n",
       " '__dict__',\n",
       " '__dir__',\n",
       " '__doc__',\n",
       " '__eq__',\n",
       " '__format__',\n",
       " '__ge__',\n",
       " '__getattribute__',\n",
       " '__gt__',\n",
       " '__hash__',\n",
       " '__init__',\n",
       " '__le__',\n",
       " '__lt__',\n",
       " '__module__',\n",
       " '__ne__',\n",
       " '__new__',\n",
       " '__reduce__',\n",
       " '__reduce_ex__',\n",
       " '__repr__',\n",
       " '__setattr__',\n",
       " '__sizeof__',\n",
       " '__str__',\n",
       " '__subclasshook__',\n",
       " '__weakref__',\n",
       " 'area',\n",
       " 'height',\n",
       " 'width']"
      ]
     },
     "execution_count": 20,
     "metadata": {},
     "output_type": "execute_result"
    }
   ],
   "source": [
    "dir(sq)"
   ]
  },
  {
   "cell_type": "markdown",
   "metadata": {},
   "source": [
    "- In languages like *Java* and *C++* you can specify that a property is *private*.\n",
    "    - This means that code outside the object cannot get acces to write or even read that property.\n",
    "    - To interact with a private property, you have to use that property's `get()` ans `set()` methods.\n",
    "        - This can be good for controlling inputs (e.g. We don't want to allow negative values for our shapes heights and widths) and for restricting access to sensitive data.\n",
    "- In *Python* things are much looser. Everything is public.\n",
    "    - But it is possible to make attributes a little less visible, by using the double underscore."
   ]
  },
  {
   "cell_type": "code",
   "execution_count": 21,
   "metadata": {
    "collapsed": false
   },
   "outputs": [
    {
     "ename": "AttributeError",
     "evalue": "'Person' object has no attribute '__ssn'",
     "output_type": "error",
     "traceback": [
      "\u001b[0;31m---------------------------------------------------------------------------\u001b[0m",
      "\u001b[0;31mAttributeError\u001b[0m                            Traceback (most recent call last)",
      "\u001b[0;32m<ipython-input-21-1a01709d60af>\u001b[0m in \u001b[0;36m<module>\u001b[0;34m()\u001b[0m\n\u001b[1;32m      7\u001b[0m \u001b[0mdude\u001b[0m \u001b[0;34m=\u001b[0m \u001b[0mPerson\u001b[0m\u001b[0;34m(\u001b[0m\u001b[0;34m'Lebowski'\u001b[0m\u001b[0;34m,\u001b[0m \u001b[0;34m'123-45-6789'\u001b[0m\u001b[0;34m)\u001b[0m\u001b[0;34m\u001b[0m\u001b[0m\n\u001b[1;32m      8\u001b[0m \u001b[0;34m\u001b[0m\u001b[0m\n\u001b[0;32m----> 9\u001b[0;31m \u001b[0mdude\u001b[0m\u001b[0;34m.\u001b[0m\u001b[0m__ssn\u001b[0m\u001b[0;34m\u001b[0m\u001b[0m\n\u001b[0m",
      "\u001b[0;31mAttributeError\u001b[0m: 'Person' object has no attribute '__ssn'"
     ]
    }
   ],
   "source": [
    "class Person():\n",
    "    \n",
    "    def __init__(self, name, ssn):\n",
    "        self.name = name\n",
    "        self.__ssn = ssn\n",
    "        \n",
    "dude = Person('Lebowski', '123-45-6789')\n",
    "\n",
    "dude.__ssn"
   ]
  },
  {
   "cell_type": "markdown",
   "metadata": {},
   "source": [
    "- So what happened to the `__ssn`?\n",
    "    - It's still there, but Python uses a little misdirection to make it less accessible.\n",
    "        - It changes it to `_Person__ssn`"
   ]
  },
  {
   "cell_type": "code",
   "execution_count": 22,
   "metadata": {
    "collapsed": false
   },
   "outputs": [
    {
     "data": {
      "text/plain": [
       "{'_Person__ssn': '123-45-6789', 'name': 'Lebowski'}"
      ]
     },
     "execution_count": 22,
     "metadata": {},
     "output_type": "execute_result"
    }
   ],
   "source": [
    "vars(dude)"
   ]
  },
  {
   "cell_type": "markdown",
   "metadata": {},
   "source": [
    "- We can use getter and setter methods to allow controlled access to these \"hidden\" properties.\n",
    "- We use the `@property` decorator to do this.\n",
    "    - decorators are functions that wrap another function."
   ]
  },
  {
   "cell_type": "code",
   "execution_count": 23,
   "metadata": {
    "collapsed": false
   },
   "outputs": [
    {
     "data": {
      "text/plain": [
       "3.141592653589793"
      ]
     },
     "execution_count": 23,
     "metadata": {},
     "output_type": "execute_result"
    }
   ],
   "source": [
    "class Circle():\n",
    "    \n",
    "    def __init__(self, radius):\n",
    "        self.radius = radius\n",
    "    \n",
    "    @property\n",
    "    def radius(self):\n",
    "        return self.__radius\n",
    "        \n",
    "    @radius.setter\n",
    "    def radius(self, radius):\n",
    "        if radius >= 0:\n",
    "            self.__radius = radius\n",
    "        else:\n",
    "            raise Exception('Radius must be non-negative')\n",
    "    \n",
    "    @property\n",
    "    def area(self):\n",
    "        from math import pi\n",
    "        return pi * self.radius**2\n",
    "    \n",
    "circ = Circle(1)\n",
    "\n",
    "circ.area"
   ]
  },
  {
   "cell_type": "code",
   "execution_count": 24,
   "metadata": {
    "collapsed": false
   },
   "outputs": [
    {
     "data": {
      "text/plain": [
       "1"
      ]
     },
     "execution_count": 24,
     "metadata": {},
     "output_type": "execute_result"
    }
   ],
   "source": [
    "circ.radius"
   ]
  },
  {
   "cell_type": "code",
   "execution_count": 25,
   "metadata": {
    "collapsed": false
   },
   "outputs": [
    {
     "data": {
      "text/plain": [
       "314.1592653589793"
      ]
     },
     "execution_count": 25,
     "metadata": {},
     "output_type": "execute_result"
    }
   ],
   "source": [
    "circ.radius = 10\n",
    "\n",
    "circ.area"
   ]
  },
  {
   "cell_type": "code",
   "execution_count": 26,
   "metadata": {
    "collapsed": false
   },
   "outputs": [
    {
     "ename": "Exception",
     "evalue": "Radius must be non-negative",
     "output_type": "error",
     "traceback": [
      "\u001b[0;31m---------------------------------------------------------------------------\u001b[0m",
      "\u001b[0;31mException\u001b[0m                                 Traceback (most recent call last)",
      "\u001b[0;32m<ipython-input-26-6f56aff0bcff>\u001b[0m in \u001b[0;36m<module>\u001b[0;34m()\u001b[0m\n\u001b[0;32m----> 1\u001b[0;31m \u001b[0mcirc\u001b[0m\u001b[0;34m.\u001b[0m\u001b[0mradius\u001b[0m \u001b[0;34m=\u001b[0m \u001b[0;34m-\u001b[0m\u001b[0;36m3\u001b[0m\u001b[0;34m\u001b[0m\u001b[0m\n\u001b[0m",
      "\u001b[0;32m<ipython-input-23-220a0d867b73>\u001b[0m in \u001b[0;36mradius\u001b[0;34m(self, radius)\u001b[0m\n\u001b[1;32m     13\u001b[0m             \u001b[0mself\u001b[0m\u001b[0;34m.\u001b[0m\u001b[0m__radius\u001b[0m \u001b[0;34m=\u001b[0m \u001b[0mradius\u001b[0m\u001b[0;34m\u001b[0m\u001b[0m\n\u001b[1;32m     14\u001b[0m         \u001b[0;32melse\u001b[0m\u001b[0;34m:\u001b[0m\u001b[0;34m\u001b[0m\u001b[0m\n\u001b[0;32m---> 15\u001b[0;31m             \u001b[0;32mraise\u001b[0m \u001b[0mException\u001b[0m\u001b[0;34m(\u001b[0m\u001b[0;34m'Radius must be non-negative'\u001b[0m\u001b[0;34m)\u001b[0m\u001b[0;34m\u001b[0m\u001b[0m\n\u001b[0m\u001b[1;32m     16\u001b[0m \u001b[0;34m\u001b[0m\u001b[0m\n\u001b[1;32m     17\u001b[0m     \u001b[0;34m@\u001b[0m\u001b[0mproperty\u001b[0m\u001b[0;34m\u001b[0m\u001b[0m\n",
      "\u001b[0;31mException\u001b[0m: Radius must be non-negative"
     ]
    }
   ],
   "source": [
    "circ.radius = -3"
   ]
  },
  {
   "cell_type": "markdown",
   "metadata": {},
   "source": [
    "### Special Methods\n",
    "- Also called \"magic methods\", these are called by Python in certain instances\n",
    "    - `__init__` and `__del__` get called when an object is created or deleted, respectively.\n",
    "- We can also create special methods for displaying the object\n",
    "    - Use `__str__` to tell Python what to do when the object is passed to `print()`\n",
    "    - Use `__repr__` to tell Python what to do when the object is *echoed* by the interpreter"
   ]
  },
  {
   "cell_type": "code",
   "execution_count": 27,
   "metadata": {
    "collapsed": false
   },
   "outputs": [
    {
     "name": "stdout",
     "output_type": "stream",
     "text": [
      "<__main__.Person object at 0x1062e5e80>\n"
     ]
    },
    {
     "data": {
      "text/plain": [
       "<__main__.Person at 0x1062e5e80>"
      ]
     },
     "execution_count": 27,
     "metadata": {},
     "output_type": "execute_result"
    }
   ],
   "source": [
    "class Person():\n",
    "    \n",
    "    def __init__(self, name):\n",
    "        self.name = name\n",
    "        \n",
    "p = Person('Barack Obama')\n",
    "\n",
    "print(p)\n",
    "\n",
    "p"
   ]
  },
  {
   "cell_type": "code",
   "execution_count": 28,
   "metadata": {
    "collapsed": false
   },
   "outputs": [
    {
     "name": "stdout",
     "output_type": "stream",
     "text": [
      "Barack Obama\n"
     ]
    },
    {
     "data": {
      "text/plain": [
       "<Person: Barack Obama>"
      ]
     },
     "execution_count": 28,
     "metadata": {},
     "output_type": "execute_result"
    }
   ],
   "source": [
    "class Person():\n",
    "    \n",
    "    def __init__(self, name):\n",
    "        self.name = name\n",
    "    \n",
    "    def __str__(self):\n",
    "        return self.name\n",
    "    \n",
    "    def __repr__(self):\n",
    "        return '<Person: %s>' % self.name\n",
    "        \n",
    "p = Person('Barack Obama')\n",
    "\n",
    "print(p)\n",
    "\n",
    "p"
   ]
  },
  {
   "cell_type": "markdown",
   "metadata": {},
   "source": [
    "- Special methods also exist for doing logical comparisons, suchs as:\n",
    "    - equality (person1 == person2): `__eq__()`\n",
    "    - less than (square1 < square2): `__lt__()`\n",
    "    - and all the other comparisons\n",
    "- You can also determine how Python performs math on these types of objects:\n",
    "    - addition (poem1 + poem2): `__add__()`\n",
    "    - subtraction (record1 - record2): `__sub__()`\n",
    "    - and so on\n",
    "- You can find all of them described here: https://docs.python.org/3/reference/datamodel.html#special-method-names"
   ]
  },
  {
   "cell_type": "code",
   "execution_count": 29,
   "metadata": {
    "collapsed": false
   },
   "outputs": [
    {
     "data": {
      "text/plain": [
       "False"
      ]
     },
     "execution_count": 29,
     "metadata": {},
     "output_type": "execute_result"
    }
   ],
   "source": [
    "class Person():\n",
    "    \n",
    "    def __init__(self, name, ssn):\n",
    "        self.name = name\n",
    "        self.ssn = ssn\n",
    "        \n",
    "    def __eq__(self, other_person):\n",
    "        if self.ssn == other_person.ssn:\n",
    "            return True\n",
    "        return False\n",
    "    \n",
    "p1 = Person('Hillary Rodham', '123456789')\n",
    "p2 = Person('Hillary Rodham', '000000000')\n",
    "p3 = Person('Hillary Clinton', '123456789')\n",
    "\n",
    "p1 == p2"
   ]
  },
  {
   "cell_type": "code",
   "execution_count": 30,
   "metadata": {
    "collapsed": false
   },
   "outputs": [
    {
     "data": {
      "text/plain": [
       "True"
      ]
     },
     "execution_count": 30,
     "metadata": {},
     "output_type": "execute_result"
    }
   ],
   "source": [
    "p1 == p3"
   ]
  }
 ],
 "metadata": {
  "kernelspec": {
   "display_name": "Python 3",
   "language": "python",
   "name": "python3"
  },
  "language_info": {
   "codemirror_mode": {
    "name": "ipython",
    "version": 3
   },
   "file_extension": ".py",
   "mimetype": "text/x-python",
   "name": "python",
   "nbconvert_exporter": "python",
   "pygments_lexer": "ipython3",
   "version": "3.5.1"
  }
 },
 "nbformat": 4,
 "nbformat_minor": 2
}
